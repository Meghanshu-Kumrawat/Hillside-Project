{
 "cells": [
  {
   "cell_type": "code",
   "execution_count": 4,
   "metadata": {},
   "outputs": [
    {
     "name": "stdout",
     "output_type": "stream",
     "text": [
      "Collecting twilio\n",
      "  Using cached twilio-7.16.1-py2.py3-none-any.whl (1.4 MB)\n",
      "Collecting requests>=2.0.0\n",
      "  Downloading requests-2.28.2-py3-none-any.whl (62 kB)\n",
      "     -------------------------------------- 62.8/62.8 kB 240.1 kB/s eta 0:00:00\n",
      "Requirement already satisfied: pytz in c:\\users\\megha\\documents\\freelancing projects\\apture\\env\\lib\\site-packages (from twilio) (2022.7.1)\n",
      "Collecting PyJWT<3.0.0,>=2.0.0\n",
      "  Using cached PyJWT-2.6.0-py3-none-any.whl (20 kB)\n",
      "Collecting urllib3<1.27,>=1.21.1\n",
      "  Downloading urllib3-1.26.14-py2.py3-none-any.whl (140 kB)\n",
      "     ------------------------------------ 140.6/140.6 kB 194.1 kB/s eta 0:00:00\n",
      "Collecting idna<4,>=2.5\n",
      "  Using cached idna-3.4-py3-none-any.whl (61 kB)\n",
      "Collecting certifi>=2017.4.17\n",
      "  Downloading certifi-2022.12.7-py3-none-any.whl (155 kB)\n",
      "     ------------------------------------ 155.3/155.3 kB 125.4 kB/s eta 0:00:00\n",
      "Collecting charset-normalizer<4,>=2\n",
      "  Downloading charset_normalizer-3.0.1-cp310-cp310-win_amd64.whl (96 kB)\n",
      "     -------------------------------------- 96.5/96.5 kB 145.1 kB/s eta 0:00:00\n",
      "Installing collected packages: charset-normalizer, urllib3, PyJWT, idna, certifi, requests, twilio\n",
      "Successfully installed PyJWT-2.6.0 certifi-2022.12.7 charset-normalizer-3.0.1 idna-3.4 requests-2.28.2 twilio-7.16.1 urllib3-1.26.14\n",
      "Note: you may need to restart the kernel to use updated packages.\n"
     ]
    }
   ],
   "source": [
    "pip install twilio"
   ]
  },
  {
   "cell_type": "code",
   "execution_count": 5,
   "metadata": {},
   "outputs": [
    {
     "name": "stdout",
     "output_type": "stream",
     "text": [
      "SM6109c2f8b6f1ef87d79d24a7e3df7a67\n"
     ]
    }
   ],
   "source": [
    "from twilio.rest import Client\n",
    "\n",
    "def sms(phone):\n",
    "        # Your Account Sid and Auth Token from twilio.com/console\n",
    "        account_sid = 'AC49a7a3f6b96a04ed8ce280ca2ce771a6'\n",
    "        auth_token = 'd257d62ccee8eaec06692a2bea04346a'\n",
    "        client = Client(account_sid, auth_token)\n",
    "\n",
    "        message = client.messages.create(\n",
    "            body=\"Hello from Python!\",\n",
    "            from_='+12565679977',\n",
    "            to=phone\n",
    "        )\n",
    "\n",
    "        print(message.sid)\n",
    "\n",
    "sms(\"+916265149219\")"
   ]
  }
 ],
 "metadata": {
  "kernelspec": {
   "display_name": "env",
   "language": "python",
   "name": "python3"
  },
  "language_info": {
   "codemirror_mode": {
    "name": "ipython",
    "version": 3
   },
   "file_extension": ".py",
   "mimetype": "text/x-python",
   "name": "python",
   "nbconvert_exporter": "python",
   "pygments_lexer": "ipython3",
   "version": "3.10.6"
  },
  "orig_nbformat": 4,
  "vscode": {
   "interpreter": {
    "hash": "8b77a87d1c1562abdd62fba198a5968f4cf0d6480d2b5ef03cce1f3f7694e0d4"
   }
  }
 },
 "nbformat": 4,
 "nbformat_minor": 2
}
