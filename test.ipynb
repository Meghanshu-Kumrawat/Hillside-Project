{
 "cells": [
  {
   "cell_type": "code",
   "execution_count": 4,
   "metadata": {},
   "outputs": [
    {
     "name": "stdout",
     "output_type": "stream",
     "text": [
      "Collecting twilio\n",
      "  Using cached twilio-7.16.1-py2.py3-none-any.whl (1.4 MB)\n",
      "Collecting requests>=2.0.0\n",
      "  Downloading requests-2.28.2-py3-none-any.whl (62 kB)\n",
      "     -------------------------------------- 62.8/62.8 kB 240.1 kB/s eta 0:00:00\n",
      "Requirement already satisfied: pytz in c:\\users\\megha\\documents\\freelancing projects\\apture\\env\\lib\\site-packages (from twilio) (2022.7.1)\n",
      "Collecting PyJWT<3.0.0,>=2.0.0\n",
      "  Using cached PyJWT-2.6.0-py3-none-any.whl (20 kB)\n",
      "Collecting urllib3<1.27,>=1.21.1\n",
      "  Downloading urllib3-1.26.14-py2.py3-none-any.whl (140 kB)\n",
      "     ------------------------------------ 140.6/140.6 kB 194.1 kB/s eta 0:00:00\n",
      "Collecting idna<4,>=2.5\n",
      "  Using cached idna-3.4-py3-none-any.whl (61 kB)\n",
      "Collecting certifi>=2017.4.17\n",
      "  Downloading certifi-2022.12.7-py3-none-any.whl (155 kB)\n",
      "     ------------------------------------ 155.3/155.3 kB 125.4 kB/s eta 0:00:00\n",
      "Collecting charset-normalizer<4,>=2\n",
      "  Downloading charset_normalizer-3.0.1-cp310-cp310-win_amd64.whl (96 kB)\n",
      "     -------------------------------------- 96.5/96.5 kB 145.1 kB/s eta 0:00:00\n",
      "Installing collected packages: charset-normalizer, urllib3, PyJWT, idna, certifi, requests, twilio\n",
      "Successfully installed PyJWT-2.6.0 certifi-2022.12.7 charset-normalizer-3.0.1 idna-3.4 requests-2.28.2 twilio-7.16.1 urllib3-1.26.14\n",
      "Note: you may need to restart the kernel to use updated packages.\n"
     ]
    }
   ],
   "source": [
    "pip install twilio"
   ]
  },
  {
   "cell_type": "code",
   "execution_count": 6,
   "metadata": {},
   "outputs": [
    {
     "ename": "TwilioRestException",
     "evalue": "HTTP 401 error: Unable to create record: Authenticate",
     "output_type": "error",
     "traceback": [
      "\u001b[1;31m---------------------------------------------------------------------------\u001b[0m",
      "\u001b[1;31mTwilioRestException\u001b[0m                       Traceback (most recent call last)",
      "Cell \u001b[1;32mIn[6], line 17\u001b[0m\n\u001b[0;32m      9\u001b[0m         message \u001b[39m=\u001b[39m client\u001b[39m.\u001b[39mmessages\u001b[39m.\u001b[39mcreate(\n\u001b[0;32m     10\u001b[0m             body\u001b[39m=\u001b[39m\u001b[39m\"\u001b[39m\u001b[39mHello from Python!\u001b[39m\u001b[39m\"\u001b[39m,\n\u001b[0;32m     11\u001b[0m             from_\u001b[39m=\u001b[39m\u001b[39m'\u001b[39m\u001b[39m+12565679977\u001b[39m\u001b[39m'\u001b[39m,\n\u001b[0;32m     12\u001b[0m             to\u001b[39m=\u001b[39mphone\n\u001b[0;32m     13\u001b[0m         )\n\u001b[0;32m     15\u001b[0m         \u001b[39mprint\u001b[39m(message\u001b[39m.\u001b[39msid)\n\u001b[1;32m---> 17\u001b[0m sms(\u001b[39m\"\u001b[39;49m\u001b[39m+916265149219\u001b[39;49m\u001b[39m\"\u001b[39;49m)\n",
      "Cell \u001b[1;32mIn[6], line 9\u001b[0m, in \u001b[0;36msms\u001b[1;34m(phone)\u001b[0m\n\u001b[0;32m      6\u001b[0m auth_token \u001b[39m=\u001b[39m \u001b[39m'\u001b[39m\u001b[39md257d62ccee8eaec06692a2bea04346a\u001b[39m\u001b[39m'\u001b[39m\n\u001b[0;32m      7\u001b[0m client \u001b[39m=\u001b[39m Client(account_sid, auth_token)\n\u001b[1;32m----> 9\u001b[0m message \u001b[39m=\u001b[39m client\u001b[39m.\u001b[39;49mmessages\u001b[39m.\u001b[39;49mcreate(\n\u001b[0;32m     10\u001b[0m     body\u001b[39m=\u001b[39;49m\u001b[39m\"\u001b[39;49m\u001b[39mHello from Python!\u001b[39;49m\u001b[39m\"\u001b[39;49m,\n\u001b[0;32m     11\u001b[0m     from_\u001b[39m=\u001b[39;49m\u001b[39m'\u001b[39;49m\u001b[39m+12565679977\u001b[39;49m\u001b[39m'\u001b[39;49m,\n\u001b[0;32m     12\u001b[0m     to\u001b[39m=\u001b[39;49mphone\n\u001b[0;32m     13\u001b[0m )\n\u001b[0;32m     15\u001b[0m \u001b[39mprint\u001b[39m(message\u001b[39m.\u001b[39msid)\n",
      "File \u001b[1;32mc:\\Users\\megha\\Documents\\Freelancing Projects\\apture\\env\\lib\\site-packages\\twilio\\rest\\api\\v2010\\account\\message\\__init__.py:103\u001b[0m, in \u001b[0;36mMessageList.create\u001b[1;34m(self, to, status_callback, application_sid, max_price, provide_feedback, attempt, validity_period, force_delivery, content_retention, address_retention, smart_encoded, persistent_action, shorten_urls, schedule_type, send_at, send_as_mms, content_sid, content_variables, from_, messaging_service_sid, body, media_url)\u001b[0m\n\u001b[0;32m     49\u001b[0m \u001b[39m\u001b[39m\u001b[39m\"\"\"\u001b[39;00m\n\u001b[0;32m     50\u001b[0m \u001b[39mCreate the MessageInstance\u001b[39;00m\n\u001b[0;32m     51\u001b[0m \n\u001b[1;32m   (...)\u001b[0m\n\u001b[0;32m     76\u001b[0m \u001b[39m:rtype: twilio.rest.api.v2010.account.message.MessageInstance\u001b[39;00m\n\u001b[0;32m     77\u001b[0m \u001b[39m\"\"\"\u001b[39;00m\n\u001b[0;32m     78\u001b[0m data \u001b[39m=\u001b[39m values\u001b[39m.\u001b[39mof({\n\u001b[0;32m     79\u001b[0m     \u001b[39m'\u001b[39m\u001b[39mTo\u001b[39m\u001b[39m'\u001b[39m: to,\n\u001b[0;32m     80\u001b[0m     \u001b[39m'\u001b[39m\u001b[39mFrom\u001b[39m\u001b[39m'\u001b[39m: from_,\n\u001b[1;32m   (...)\u001b[0m\n\u001b[0;32m    100\u001b[0m     \u001b[39m'\u001b[39m\u001b[39mContentVariables\u001b[39m\u001b[39m'\u001b[39m: content_variables,\n\u001b[0;32m    101\u001b[0m })\n\u001b[1;32m--> 103\u001b[0m payload \u001b[39m=\u001b[39m \u001b[39mself\u001b[39;49m\u001b[39m.\u001b[39;49m_version\u001b[39m.\u001b[39;49mcreate(method\u001b[39m=\u001b[39;49m\u001b[39m'\u001b[39;49m\u001b[39mPOST\u001b[39;49m\u001b[39m'\u001b[39;49m, uri\u001b[39m=\u001b[39;49m\u001b[39mself\u001b[39;49m\u001b[39m.\u001b[39;49m_uri, data\u001b[39m=\u001b[39;49mdata, )\n\u001b[0;32m    105\u001b[0m \u001b[39mreturn\u001b[39;00m MessageInstance(\u001b[39mself\u001b[39m\u001b[39m.\u001b[39m_version, payload, account_sid\u001b[39m=\u001b[39m\u001b[39mself\u001b[39m\u001b[39m.\u001b[39m_solution[\u001b[39m'\u001b[39m\u001b[39maccount_sid\u001b[39m\u001b[39m'\u001b[39m], )\n",
      "File \u001b[1;32mc:\\Users\\megha\\Documents\\Freelancing Projects\\apture\\env\\lib\\site-packages\\twilio\\base\\version.py:205\u001b[0m, in \u001b[0;36mVersion.create\u001b[1;34m(self, method, uri, params, data, headers, auth, timeout, allow_redirects)\u001b[0m\n\u001b[0;32m    193\u001b[0m response \u001b[39m=\u001b[39m \u001b[39mself\u001b[39m\u001b[39m.\u001b[39mrequest(\n\u001b[0;32m    194\u001b[0m     method,\n\u001b[0;32m    195\u001b[0m     uri,\n\u001b[1;32m   (...)\u001b[0m\n\u001b[0;32m    201\u001b[0m     allow_redirects\u001b[39m=\u001b[39mallow_redirects,\n\u001b[0;32m    202\u001b[0m )\n\u001b[0;32m    204\u001b[0m \u001b[39mif\u001b[39;00m response\u001b[39m.\u001b[39mstatus_code \u001b[39m<\u001b[39m \u001b[39m200\u001b[39m \u001b[39mor\u001b[39;00m response\u001b[39m.\u001b[39mstatus_code \u001b[39m>\u001b[39m\u001b[39m=\u001b[39m \u001b[39m300\u001b[39m:\n\u001b[1;32m--> 205\u001b[0m     \u001b[39mraise\u001b[39;00m \u001b[39mself\u001b[39m\u001b[39m.\u001b[39mexception(method, uri, response, \u001b[39m'\u001b[39m\u001b[39mUnable to create record\u001b[39m\u001b[39m'\u001b[39m)\n\u001b[0;32m    207\u001b[0m \u001b[39mreturn\u001b[39;00m json\u001b[39m.\u001b[39mloads(response\u001b[39m.\u001b[39mtext)\n",
      "\u001b[1;31mTwilioRestException\u001b[0m: HTTP 401 error: Unable to create record: Authenticate"
     ]
    }
   ],
   "source": [
    "from twilio.rest import Client\n",
    "\n",
    "def sms(phone):\n",
    "        # Your Account Sid and Auth Token from twilio.com/console\n",
    "        account_sid = 'AC49a7a3f6b96a04ed8ce280ca2ce771a6'\n",
    "        auth_token = 'd257d62ccee8eaec06692a2bea04346a'\n",
    "        client = Client(account_sid, auth_token)\n",
    "\n",
    "        message = client.messages.create(\n",
    "            body=\"Hello from Python!\",\n",
    "            from_='+12565679977',\n",
    "            to=phone\n",
    "        )\n",
    "\n",
    "        print(message.sid)\n",
    "\n",
    "sms(\"+916265149219\")"
   ]
  },
  {
   "cell_type": "code",
   "execution_count": 14,
   "metadata": {},
   "outputs": [
    {
     "name": "stdout",
     "output_type": "stream",
     "text": [
      "SM0c159208d6b6ab8e817eca5fb7e1e561\n"
     ]
    }
   ],
   "source": [
    "# Download the helper library from https://www.twilio.com/docs/python/install\n",
    "import os\n",
    "from twilio.rest import Client\n",
    "\n",
    "\n",
    "# Find your Account SID and Auth Token at twilio.com/console\n",
    "# and set the environment variables. See http://twil.io/secure\n",
    "account_sid = 'AC49a7a3f6b96a04ed8ce280ca2ce771a6'\n",
    "auth_token = 'd8d0fd68b18653c789c285068c5b54f6'\n",
    "client = Client(account_sid, auth_token)\n",
    "\n",
    "message = client.messages \\\n",
    "                .create(\n",
    "                     body=\"Join Earth's mightiest heroes. Like Kevin Bacon.\",\n",
    "                     from_='+12565679977',\n",
    "                     to='+916265149219'\n",
    "                 )\n",
    "\n",
    "print(message.sid)\n"
   ]
  },
  {
   "cell_type": "code",
   "execution_count": 35,
   "metadata": {},
   "outputs": [],
   "source": [
    "payload = '''{\n",
    "    \"name\": \"Shirt\",\n",
    "    \"description\": \"hellow wordl\",\n",
    "    \"material\": \"cotton\",\n",
    "    \"origin\": \"indian\",\n",
    "    \"price\": 500,\n",
    "    \"productsize_set\":[{\"name\":\"XL\", \"quantity\":5}],\n",
    "    \"productcolor_set\":[{\"name\":\"BLUE\"}, {\"name\":\"RED\"}]\n",
    "}'''\n",
    "import json\n",
    "\n",
    "data = json.loads(payload)\n",
    "data  = json.dumps(data)"
   ]
  },
  {
   "cell_type": "code",
   "execution_count": 3,
   "metadata": {},
   "outputs": [
    {
     "name": "stdout",
     "output_type": "stream",
     "text": [
      "Collecting stripe\n",
      "  Using cached stripe-5.1.0-py2.py3-none-any.whl (253 kB)\n",
      "Requirement already satisfied: requests>=2.20 in c:\\users\\megha\\documents\\freelancing projects\\python3-saml\\env\\lib\\site-packages (from stripe) (2.28.2)\n",
      "Requirement already satisfied: urllib3<1.27,>=1.21.1 in c:\\users\\megha\\documents\\freelancing projects\\python3-saml\\env\\lib\\site-packages (from requests>=2.20->stripe) (1.26.14)\n",
      "Requirement already satisfied: charset-normalizer<4,>=2 in c:\\users\\megha\\documents\\freelancing projects\\python3-saml\\env\\lib\\site-packages (from requests>=2.20->stripe) (3.0.1)\n",
      "Requirement already satisfied: idna<4,>=2.5 in c:\\users\\megha\\documents\\freelancing projects\\python3-saml\\env\\lib\\site-packages (from requests>=2.20->stripe) (3.4)\n",
      "Requirement already satisfied: certifi>=2017.4.17 in c:\\users\\megha\\documents\\freelancing projects\\python3-saml\\env\\lib\\site-packages (from requests>=2.20->stripe) (2022.12.7)\n",
      "Installing collected packages: stripe\n",
      "Successfully installed stripe-5.1.0\n",
      "Note: you may need to restart the kernel to use updated packages.\n"
     ]
    },
    {
     "name": "stderr",
     "output_type": "stream",
     "text": [
      "\n",
      "[notice] A new release of pip available: 22.3.1 -> 23.0\n",
      "[notice] To update, run: python.exe -m pip install --upgrade pip\n"
     ]
    }
   ],
   "source": [
    "pip install stripe"
   ]
  },
  {
   "cell_type": "code",
   "execution_count": 11,
   "metadata": {},
   "outputs": [
    {
     "name": "stdout",
     "output_type": "stream",
     "text": [
      "{\n",
      "  \"address\": null,\n",
      "  \"balance\": 0,\n",
      "  \"created\": 1675612061,\n",
      "  \"currency\": null,\n",
      "  \"default_source\": null,\n",
      "  \"delinquent\": false,\n",
      "  \"description\": null,\n",
      "  \"discount\": null,\n",
      "  \"email\": \"meghanshukumrawat16@gmail.com\",\n",
      "  \"id\": \"cus_NIlzrSTHuxM9ti\",\n",
      "  \"invoice_prefix\": \"9050E485\",\n",
      "  \"invoice_settings\": {\n",
      "    \"custom_fields\": null,\n",
      "    \"default_payment_method\": null,\n",
      "    \"footer\": null,\n",
      "    \"rendering_options\": null\n",
      "  },\n",
      "  \"livemode\": false,\n",
      "  \"metadata\": {},\n",
      "  \"name\": null,\n",
      "  \"next_invoice_sequence\": 1,\n",
      "  \"object\": \"customer\",\n",
      "  \"phone\": null,\n",
      "  \"preferred_locales\": [],\n",
      "  \"shipping\": null,\n",
      "  \"tax_exempt\": \"none\",\n",
      "  \"test_clock\": null\n",
      "}\n"
     ]
    }
   ],
   "source": [
    "import stripe\n",
    "\n",
    "stripe.api_key = 'sk_test_51MWKGUSHsFjEKawcibl1VFynFgGpXsrkcnVl9WvQykwsJVN2VXCZvCvM1SzgvrXp8pOp6j1n0KZV8bDFsKjZaaL100EIUdF2gs'\n",
    "\n",
    "customer = stripe.Customer.create(email=\"meghanshukumrawat16@gmail.com\", payment_method=\"pm_card_visa\")\n",
    "\n",
    "print(customer)"
   ]
  },
  {
   "cell_type": "code",
   "execution_count": 17,
   "metadata": {},
   "outputs": [
    {
     "name": "stdout",
     "output_type": "stream",
     "text": [
      "{\n",
      "  \"address\": null,\n",
      "  \"balance\": 0,\n",
      "  \"created\": 1675612061,\n",
      "  \"currency\": null,\n",
      "  \"default_source\": null,\n",
      "  \"delinquent\": false,\n",
      "  \"description\": null,\n",
      "  \"discount\": null,\n",
      "  \"email\": \"test@gmail.com\",\n",
      "  \"id\": \"cus_NIlzrSTHuxM9ti\",\n",
      "  \"invoice_prefix\": \"9050E485\",\n",
      "  \"invoice_settings\": {\n",
      "    \"custom_fields\": null,\n",
      "    \"default_payment_method\": null,\n",
      "    \"footer\": null,\n",
      "    \"rendering_options\": null\n",
      "  },\n",
      "  \"livemode\": false,\n",
      "  \"metadata\": {},\n",
      "  \"name\": null,\n",
      "  \"next_invoice_sequence\": 1,\n",
      "  \"object\": \"customer\",\n",
      "  \"phone\": null,\n",
      "  \"preferred_locales\": [],\n",
      "  \"shipping\": null,\n",
      "  \"tax_exempt\": \"none\",\n",
      "  \"test_clock\": null\n",
      "}\n"
     ]
    }
   ],
   "source": [
    "stripe_customer = stripe.Customer.modify(customer.id, email=\"test@gmail.com\")\n",
    "print(stripe_customer)"
   ]
  },
  {
   "cell_type": "code",
   "execution_count": 46,
   "metadata": {},
   "outputs": [],
   "source": [
    "data = {'n':\"ii\", 'i':\"jj\"}"
   ]
  },
  {
   "cell_type": "code",
   "execution_count": 48,
   "metadata": {},
   "outputs": [
    {
     "name": "stdout",
     "output_type": "stream",
     "text": [
      "found\n"
     ]
    }
   ],
   "source": [
    "if \"i\" not in data or \"n\" not in data:\n",
    "    print(\"not found\")\n",
    "else:\n",
    "    print(\"found\")"
   ]
  }
 ],
 "metadata": {
  "kernelspec": {
   "display_name": "env",
   "language": "python",
   "name": "python3"
  },
  "language_info": {
   "codemirror_mode": {
    "name": "ipython",
    "version": 3
   },
   "file_extension": ".py",
   "mimetype": "text/x-python",
   "name": "python",
   "nbconvert_exporter": "python",
   "pygments_lexer": "ipython3",
   "version": "3.10.6"
  },
  "orig_nbformat": 4,
  "vscode": {
   "interpreter": {
    "hash": "e44d43558a5201a5ac4f43ff0b49ff73dc49f9cf85f3dc7dfa4365ad88af0b26"
   }
  }
 },
 "nbformat": 4,
 "nbformat_minor": 2
}
